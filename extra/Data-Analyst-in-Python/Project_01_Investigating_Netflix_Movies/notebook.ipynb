{
 "cells": [
  {
   "cell_type": "markdown",
   "id": "937acf3c-c077-4ca6-8d90-8f6dd4d13c54",
   "metadata": {},
   "source": [
    "<center><img src=\"redpopcorn.jpg\"></center>"
   ]
  },
  {
   "cell_type": "markdown",
   "id": "5962b2cd-17bb-4ec9-b2d5-68537ca26860",
   "metadata": {},
   "source": [
    "**Netflix**! What started in 1997 as a DVD rental service has since exploded into one of the largest entertainment and media companies.\n",
    "\n",
    "Given the large number of movies and series available on the platform, it is a perfect opportunity to flex your exploratory data analysis skills and dive into the entertainment industry.\n",
    "\n",
    "You work for a production company that specializes in nostalgic styles. You want to do some research on movies released in the 1990's. You'll delve into Netflix data and perform exploratory data analysis to better understand this awesome movie decade!\n",
    "\n",
    "You have been supplied with the dataset `netflix_data.csv`, along with the following table detailing the column names and descriptions. Feel free to experiment further after submitting!\n",
    "\n",
    "## The data\n",
    "### **netflix_data.csv**\n",
    "| Column | Description |\n",
    "|--------|-------------|\n",
    "| `show_id` | The ID of the show |\n",
    "| `type` | Type of show |\n",
    "| `title` | Title of the show |\n",
    "| `director` | Director of the show |\n",
    "| `cast` | Cast of the show |\n",
    "| `country` | Country of origin |\n",
    "| `date_added` | Date added to Netflix |\n",
    "| `release_year` | Year of Netflix release |\n",
    "| `duration` | Duration of the show in minutes |\n",
    "| `description` | Description of the show |\n",
    "| `genre` | Show genre |"
   ]
  },
  {
   "cell_type": "code",
   "execution_count": 50,
   "id": "320a3abc-8a36-4b2b-baaf-473325363a4d",
   "metadata": {
    "executionCancelledAt": null,
    "executionTime": 35,
    "lastExecutedAt": 1727188009220,
    "lastExecutedByKernel": "9642b12e-0558-40da-8b2e-2ce4b55a4745",
    "lastScheduledRunId": null,
    "lastSuccessfullyExecutedCode": "# Importing pandas and matplotlib\nimport pandas as pd\nimport matplotlib.pyplot as plt\n\n# Read in the Netflix CSV as a DataFrame\nnetflix_df = pd.read_csv(\"netflix_data.csv\")"
   },
   "outputs": [],
   "source": [
    "# Importing pandas and matplotlib\n",
    "import pandas as pd\n",
    "import matplotlib.pyplot as plt\n",
    "\n",
    "# Read in the Netflix CSV as a DataFrame\n",
    "netflix_df = pd.read_csv(\"netflix_data.csv\")"
   ]
  },
  {
   "cell_type": "code",
   "execution_count": 51,
   "id": "72658473-114f-49eb-bd4e-cc03c710834a",
   "metadata": {
    "executionCancelledAt": null,
    "executionTime": 49,
    "lastExecutedAt": 1727188009269,
    "lastExecutedByKernel": "9642b12e-0558-40da-8b2e-2ce4b55a4745",
    "lastScheduledRunId": null,
    "lastSuccessfullyExecutedCode": "# Start coding here! Use as many cells as you like\nnetflix_df.head()",
    "outputsMetadata": {
     "0": {
      "height": 236,
      "type": "dataFrame"
     }
    }
   },
   "outputs": [
    {
     "data": {
      "application/com.datacamp.data-table.v2+json": {
       "table": {
        "data": {
         "cast": [
          "Demián Bichir, Héctor Bonilla, Oscar Serrano, Azalia Ortiz, Octavio Michel, Carmen Beato",
          "Tedd Chan, Stella Chung, Henley Hii, Lawrence Koh, Tommy Kuan, Josh Lai, Mark Lee, Susan Leong, Benjamin Lim",
          "Elijah Wood, John C. Reilly, Jennifer Connelly, Christopher Plummer, Crispin Glover, Martin Landau, Fred Tatasciore, Alan Oppenheimer, Tom Kane",
          "Jim Sturgess, Kevin Spacey, Kate Bosworth, Aaron Yoo, Liza Lapira, Jacob Pitts, Laurence Fishburne, Jack McGee, Josh Gad, Sam Golzari, Helen Carey, Jack Gilpin",
          "Erdal Beşikçioğlu, Yasemin Allen, Melis Birkan, Saygın Soysal, Berkan Şal, Metin Belgin, Ayça Eren, Selin Uludoğan, Özay Fecht, Suna Yıldızoğlu"
         ],
         "country": [
          "Mexico",
          "Singapore",
          "United States",
          "United States",
          "Turkey"
         ],
         "date_added": [
          "December 23, 2016",
          "December 20, 2018",
          "November 16, 2017",
          "January 1, 2020",
          "July 1, 2017"
         ],
         "description": [
          "After a devastating earthquake hits Mexico City, trapped survivors from all walks of life wait to be rescued while trying desperately to stay alive.",
          "When an army recruit is found dead, his fellow soldiers are forced to confront a terrifying secret that's haunting their jungle island training camp.",
          "In a postapocalyptic world, rag-doll robots hide in fear from dangerous machines out to exterminate them, until a brave newcomer joins the group.",
          "A brilliant group of students become card-counting experts with the intent of swindling millions out of Las Vegas casinos by playing blackjack.",
          "A genetics professor experiments with a treatment for his comatose sister that blends medical and shamanic cures, but unlocks a shocking side effect."
         ],
         "director": [
          "Jorge Michel Grau",
          "Gilbert Chan",
          "Shane Acker",
          "Robert Luketic",
          "Serdar Akar"
         ],
         "duration": [
          93,
          78,
          80,
          123,
          1
         ],
         "genre": [
          "Dramas",
          "Horror Movies",
          "Action",
          "Dramas",
          "International TV"
         ],
         "index": [
          0,
          1,
          2,
          3,
          4
         ],
         "release_year": [
          2016,
          2011,
          2009,
          2008,
          2016
         ],
         "show_id": [
          "s2",
          "s3",
          "s4",
          "s5",
          "s6"
         ],
         "title": [
          "7:19",
          "23:59",
          "9",
          "21",
          "46"
         ],
         "type": [
          "Movie",
          "Movie",
          "Movie",
          "Movie",
          "TV Show"
         ]
        },
        "schema": {
         "fields": [
          {
           "name": "index",
           "type": "integer"
          },
          {
           "name": "show_id",
           "type": "string"
          },
          {
           "name": "type",
           "type": "string"
          },
          {
           "name": "title",
           "type": "string"
          },
          {
           "name": "director",
           "type": "string"
          },
          {
           "name": "cast",
           "type": "string"
          },
          {
           "name": "country",
           "type": "string"
          },
          {
           "name": "date_added",
           "type": "string"
          },
          {
           "name": "release_year",
           "type": "integer"
          },
          {
           "name": "duration",
           "type": "integer"
          },
          {
           "name": "description",
           "type": "string"
          },
          {
           "name": "genre",
           "type": "string"
          }
         ],
         "pandas_version": "1.4.0",
         "primaryKey": [
          "index"
         ]
        }
       },
       "total_rows": 5,
       "truncation_type": null
      },
      "text/html": [
       "<div>\n",
       "<style scoped>\n",
       "    .dataframe tbody tr th:only-of-type {\n",
       "        vertical-align: middle;\n",
       "    }\n",
       "\n",
       "    .dataframe tbody tr th {\n",
       "        vertical-align: top;\n",
       "    }\n",
       "\n",
       "    .dataframe thead th {\n",
       "        text-align: right;\n",
       "    }\n",
       "</style>\n",
       "<table border=\"1\" class=\"dataframe\">\n",
       "  <thead>\n",
       "    <tr style=\"text-align: right;\">\n",
       "      <th></th>\n",
       "      <th>show_id</th>\n",
       "      <th>type</th>\n",
       "      <th>title</th>\n",
       "      <th>director</th>\n",
       "      <th>cast</th>\n",
       "      <th>country</th>\n",
       "      <th>date_added</th>\n",
       "      <th>release_year</th>\n",
       "      <th>duration</th>\n",
       "      <th>description</th>\n",
       "      <th>genre</th>\n",
       "    </tr>\n",
       "  </thead>\n",
       "  <tbody>\n",
       "    <tr>\n",
       "      <th>0</th>\n",
       "      <td>s2</td>\n",
       "      <td>Movie</td>\n",
       "      <td>7:19</td>\n",
       "      <td>Jorge Michel Grau</td>\n",
       "      <td>Demián Bichir, Héctor Bonilla, Oscar Serrano, ...</td>\n",
       "      <td>Mexico</td>\n",
       "      <td>December 23, 2016</td>\n",
       "      <td>2016</td>\n",
       "      <td>93</td>\n",
       "      <td>After a devastating earthquake hits Mexico Cit...</td>\n",
       "      <td>Dramas</td>\n",
       "    </tr>\n",
       "    <tr>\n",
       "      <th>1</th>\n",
       "      <td>s3</td>\n",
       "      <td>Movie</td>\n",
       "      <td>23:59</td>\n",
       "      <td>Gilbert Chan</td>\n",
       "      <td>Tedd Chan, Stella Chung, Henley Hii, Lawrence ...</td>\n",
       "      <td>Singapore</td>\n",
       "      <td>December 20, 2018</td>\n",
       "      <td>2011</td>\n",
       "      <td>78</td>\n",
       "      <td>When an army recruit is found dead, his fellow...</td>\n",
       "      <td>Horror Movies</td>\n",
       "    </tr>\n",
       "    <tr>\n",
       "      <th>2</th>\n",
       "      <td>s4</td>\n",
       "      <td>Movie</td>\n",
       "      <td>9</td>\n",
       "      <td>Shane Acker</td>\n",
       "      <td>Elijah Wood, John C. Reilly, Jennifer Connelly...</td>\n",
       "      <td>United States</td>\n",
       "      <td>November 16, 2017</td>\n",
       "      <td>2009</td>\n",
       "      <td>80</td>\n",
       "      <td>In a postapocalyptic world, rag-doll robots hi...</td>\n",
       "      <td>Action</td>\n",
       "    </tr>\n",
       "    <tr>\n",
       "      <th>3</th>\n",
       "      <td>s5</td>\n",
       "      <td>Movie</td>\n",
       "      <td>21</td>\n",
       "      <td>Robert Luketic</td>\n",
       "      <td>Jim Sturgess, Kevin Spacey, Kate Bosworth, Aar...</td>\n",
       "      <td>United States</td>\n",
       "      <td>January 1, 2020</td>\n",
       "      <td>2008</td>\n",
       "      <td>123</td>\n",
       "      <td>A brilliant group of students become card-coun...</td>\n",
       "      <td>Dramas</td>\n",
       "    </tr>\n",
       "    <tr>\n",
       "      <th>4</th>\n",
       "      <td>s6</td>\n",
       "      <td>TV Show</td>\n",
       "      <td>46</td>\n",
       "      <td>Serdar Akar</td>\n",
       "      <td>Erdal Beşikçioğlu, Yasemin Allen, Melis Birkan...</td>\n",
       "      <td>Turkey</td>\n",
       "      <td>July 1, 2017</td>\n",
       "      <td>2016</td>\n",
       "      <td>1</td>\n",
       "      <td>A genetics professor experiments with a treatm...</td>\n",
       "      <td>International TV</td>\n",
       "    </tr>\n",
       "  </tbody>\n",
       "</table>\n",
       "</div>"
      ],
      "text/plain": [
       "  show_id  ...             genre\n",
       "0      s2  ...            Dramas\n",
       "1      s3  ...     Horror Movies\n",
       "2      s4  ...            Action\n",
       "3      s5  ...            Dramas\n",
       "4      s6  ...  International TV\n",
       "\n",
       "[5 rows x 11 columns]"
      ]
     },
     "execution_count": 51,
     "metadata": {},
     "output_type": "execute_result"
    }
   ],
   "source": [
    "# Start coding here! Use as many cells as you like\n",
    "netflix_df.head()"
   ]
  },
  {
   "cell_type": "code",
   "execution_count": 52,
   "id": "817a22e9-132c-4f54-a100-c372f7e65adb",
   "metadata": {
    "executionCancelledAt": null,
    "executionTime": 51,
    "lastExecutedAt": 1727188009320,
    "lastExecutedByKernel": "9642b12e-0558-40da-8b2e-2ce4b55a4745",
    "lastScheduledRunId": null,
    "lastSuccessfullyExecutedCode": "netflix_df.shape"
   },
   "outputs": [
    {
     "data": {
      "text/plain": [
       "(4812, 11)"
      ]
     },
     "execution_count": 52,
     "metadata": {},
     "output_type": "execute_result"
    }
   ],
   "source": [
    "netflix_df.shape"
   ]
  },
  {
   "cell_type": "markdown",
   "id": "7e8a0933-a15d-4dae-ae9e-108ef3e8f53a",
   "metadata": {},
   "source": [
    "# 1. Filter the data for movies released in the 1990s"
   ]
  },
  {
   "cell_type": "code",
   "execution_count": 53,
   "id": "36dc5c72-c70b-441f-bdeb-1ea76bf5bcdf",
   "metadata": {
    "executionCancelledAt": null,
    "executionTime": 47,
    "lastExecutedAt": 1727188009368,
    "lastExecutedByKernel": "9642b12e-0558-40da-8b2e-2ce4b55a4745",
    "lastScheduledRunId": null,
    "lastSuccessfullyExecutedCode": "# get all movies\nmovies = netflix_df[netflix_df['type'] == 'Movie']\nmovies.shape",
    "outputsMetadata": {
     "0": {
      "height": 236,
      "type": "dataFrame"
     }
    }
   },
   "outputs": [
    {
     "data": {
      "text/plain": [
       "(4677, 11)"
      ]
     },
     "execution_count": 53,
     "metadata": {},
     "output_type": "execute_result"
    }
   ],
   "source": [
    "# get all movies\n",
    "movies = netflix_df[netflix_df['type'] == 'Movie']\n",
    "movies.shape"
   ]
  },
  {
   "cell_type": "code",
   "execution_count": 54,
   "id": "661e392f-d7b0-40f4-97a4-0f16bad7a480",
   "metadata": {
    "executionCancelledAt": null,
    "executionTime": 51,
    "lastExecutedAt": 1727188009420,
    "lastExecutedByKernel": "9642b12e-0558-40da-8b2e-2ce4b55a4745",
    "lastScheduledRunId": null,
    "lastSuccessfullyExecutedCode": "# filter the movies to the ones released in the 1990s\nmovies_1990s = movies[(movies['release_year'] >= 1990) & (movies['release_year'] < 2000)]\nmovies_1990s.shape",
    "outputsMetadata": {
     "0": {
      "height": 236,
      "type": "dataFrame"
     }
    }
   },
   "outputs": [
    {
     "data": {
      "text/plain": [
       "(183, 11)"
      ]
     },
     "execution_count": 54,
     "metadata": {},
     "output_type": "execute_result"
    }
   ],
   "source": [
    "# filter the movies to the ones released in the 1990s\n",
    "movies_1990s = movies[(movies['release_year'] >= 1990) & (movies['release_year'] < 2000)]\n",
    "movies_1990s.shape"
   ]
  },
  {
   "cell_type": "markdown",
   "id": "b89e2ecb-7709-4184-841b-aa33e3599583",
   "metadata": {},
   "source": [
    "# 2. Find the most frequent movie duration"
   ]
  },
  {
   "cell_type": "code",
   "execution_count": 55,
   "id": "03589c45-7f78-4082-8d22-7c89ff8bbe53",
   "metadata": {
    "executionCancelledAt": null,
    "executionTime": 187,
    "lastExecutedAt": 1727188009608,
    "lastExecutedByKernel": "9642b12e-0558-40da-8b2e-2ce4b55a4745",
    "lastScheduledRunId": null,
    "lastSuccessfullyExecutedCode": "# visualize the distributions for movies released in the 1990s\nplt.hist(movies_1990s['duration'], bins=10)\nplt.show()"
   },
   "outputs": [
    {
     "data": {
      "image/png": "[encoded data removed]",
      "text/plain": [
       "<Figure size 640x480 with 1 Axes>"
      ]
     },
     "metadata": {
      "image/png": {
       "height": 413,
       "width": 546
      }
     },
     "output_type": "display_data"
    }
   ],
   "source": [
    "# visualize the distributions for movies released in the 1990s\n",
    "plt.hist(movies_1990s['duration'], bins=10)\n",
    "plt.show()"
   ]
  },
  {
   "cell_type": "code",
   "execution_count": 56,
   "id": "0744832b-84d2-47f4-a4e0-26fb99844797",
   "metadata": {
    "executionCancelledAt": null,
    "executionTime": 48,
    "lastExecutedAt": 1727188009656,
    "lastExecutedByKernel": "9642b12e-0558-40da-8b2e-2ce4b55a4745",
    "lastScheduledRunId": null,
    "lastSuccessfullyExecutedCode": "# find the most frequent movie duration\nduration = movies_1990s['duration'].mode()[0]\nduration"
   },
   "outputs": [
    {
     "data": {
      "text/plain": [
       "94"
      ]
     },
     "execution_count": 56,
     "metadata": {},
     "output_type": "execute_result"
    }
   ],
   "source": [
    "# find the most frequent movie duration\n",
    "duration = movies_1990s['duration'].mode()[0]\n",
    "duration"
   ]
  },
  {
   "cell_type": "markdown",
   "id": "43633972-7949-4383-b6b3-27e79b069a0d",
   "metadata": {},
   "source": [
    "# 3. Count the number of short action movies from the 1990s"
   ]
  },
  {
   "cell_type": "code",
   "execution_count": 57,
   "id": "0e4b34b6-db44-4119-b22e-1e34d8f0fb61",
   "metadata": {
    "executionCancelledAt": null,
    "executionTime": 52,
    "lastExecutedAt": 1727188009709,
    "lastExecutedByKernel": "9642b12e-0558-40da-8b2e-2ce4b55a4745",
    "lastScheduledRunId": null,
    "lastSuccessfullyExecutedCode": "# filter movies to get only action movies\naction_movies = movies_1990s[movies_1990s['genre'] == 'Action']\naction_movies.shape",
    "outputsMetadata": {
     "0": {
      "height": 523,
      "type": "stream"
     }
    }
   },
   "outputs": [
    {
     "data": {
      "text/plain": [
       "(48, 11)"
      ]
     },
     "execution_count": 57,
     "metadata": {},
     "output_type": "execute_result"
    }
   ],
   "source": [
    "# filter movies to get only action movies\n",
    "action_movies = movies_1990s[movies_1990s['genre'] == 'Action']\n",
    "action_movies.shape"
   ]
  },
  {
   "cell_type": "code",
   "execution_count": 58,
   "id": "096c00a0-3a38-413c-ac5c-328ceeaa1a4f",
   "metadata": {
    "executionCancelledAt": null,
    "executionTime": 51,
    "lastExecutedAt": 1727188009760,
    "lastExecutedByKernel": "9642b12e-0558-40da-8b2e-2ce4b55a4745",
    "lastScheduledRunId": null,
    "lastSuccessfullyExecutedCode": "short_movie_count = 0\nfor movie_duration in action_movies['duration']:\n    if movie_duration < 90:\n        short_movie_count += 1\nshort_movie_count"
   },
   "outputs": [
    {
     "data": {
      "text/plain": [
       "7"
      ]
     },
     "execution_count": 58,
     "metadata": {},
     "output_type": "execute_result"
    }
   ],
   "source": [
    "short_movie_count = 0\n",
    "for movie_duration in action_movies['duration']:\n",
    "    if movie_duration < 90:\n",
    "        short_movie_count += 1\n",
    "short_movie_count"
   ]
  }
 ],
 "metadata": {
  "colab": {
   "name": "Welcome to DataCamp Workspaces.ipynb",
   "provenance": []
  },
  "editor": "DataLab",
  "kernelspec": {
   "display_name": "Python 3 (ipykernel)",
   "language": "python",
   "name": "python3"
  },
  "language_info": {
   "codemirror_mode": {
    "name": "ipython",
    "version": 3
   },
   "file_extension": ".py",
   "mimetype": "text/x-python",
   "name": "python",
   "nbconvert_exporter": "python",
   "pygments_lexer": "ipython3",
   "version": "3.11.5"
  }
 },
 "nbformat": 4,
 "nbformat_minor": 5
}
