{
 "cells": [
  {
   "cell_type": "markdown",
   "metadata": {},
   "source": [
    "Which NYC schools have the best math results?\n",
    "\n",
    "The best math results are at least 80% of the *maximum possible score of 800* for math.\n",
    "Save your results in a pandas DataFrame called best_math_schools, including \"school_name\" and \"average_math\" columns, sorted by \"average_math\" in descending order.\n",
    "What are the top 10 performing schools based on the combined SAT scores?\n",
    "\n",
    "Save your results as a pandas DataFrame called top_10_schools containing the \"school_name\" and a new column named \"total_SAT\", with results ordered by \"total_SAT\" in descending order (\"total_SAT\" being the sum of math, reading, and writing scores).\n",
    "Which single borough has the largest standard deviation in the combined SAT score?\n",
    "\n",
    "Save your results as a pandas DataFrame called largest_std_dev.\n",
    "The DataFrame should contain one row, with:\n",
    "\"borough\" - the name of the NYC borough with the largest standard deviation of \"total_SAT\".\n",
    "\"num_schools\" - the number of schools in the borough.\n",
    "\"average_SAT\" - the mean of \"total_SAT\".\n",
    "\"std_SAT\" - the standard deviation of \"total_SAT\".\n",
    "Round all numeric values to two decimal places."
   ]
  },
  {
   "cell_type": "markdown",
   "metadata": {},
   "source": [
    "Netflix! What started in 1997 as a DVD rental service has since exploded into one of the largest entertainment and media companies.\n",
    "\n",
    "Given the large number of movies and series available on the platform, it is a perfect opportunity to flex your exploratory data analysis skills and dive into the entertainment industry.\n",
    "\n",
    "You work for a production company that specializes in nostalgic styles. You want to do some research on movies released in the 1990's. You'll delve into Netflix data and perform exploratory data analysis to better understand this awesome movie decade!\n",
    "\n",
    "You have been supplied with the dataset netflix_data.csv, along with the following table detailing the column names and descriptions. Feel free to experiment further after submitting!\n",
    "\n",
    "The data\n",
    "netflix_data.csv\n",
    "Column\tDescription\n",
    "show_id\tThe ID of the show\n",
    "type\tType of show\n",
    "title\tTitle of the show\n",
    "director\tDirector of the show\n",
    "cast\tCast of the show\n",
    "country\tCountry of origin\n",
    "date_added\tDate added to Netflix\n",
    "release_year\tYear of Netflix release\n",
    "duration\tDuration of the show in minutes\n",
    "description\tDescription of the show\n",
    "genre\tShow genre"
   ]
  },
  {
   "cell_type": "code",
   "execution_count": null,
   "metadata": {
    "vscode": {
     "languageId": "plaintext"
    }
   },
   "outputs": [],
   "source": [
    "# Re-run this cell \n",
    "import pandas as pd\n",
    "\n",
    "# Read in the data\n",
    "schools = pd.read_csv(\"schools.csv\")\n",
    "\n",
    "# Preview the data\n",
    "schools.head()\n",
    "\n",
    "# Start coding here...\n",
    "\n",
    "# Which schools are best for math?\n",
    "best_math_schools = schools[schools[\"average_math\"] >= 640][[\"school_name\", \"average_math\"]].sort_values(\"average_math\", ascending=False)\n",
    "\n",
    "# Calculate total_SAT per school\n",
    "schools[\"total_SAT\"] = schools[\"average_math\"] + schools[\"average_reading\"] + schools[\"average_writing\"]\n",
    "\n",
    "# Who are the top 10 performing schools?\n",
    "top_10_schools = schools.sort_values(\"total_SAT\", ascending=False)[[\"school_name\", \"total_SAT\"]].head(10)\n",
    "\n",
    "# Which NYC borough has the highest standard deviation for total_SAT?\n",
    "boroughs = schools.groupby(\"borough\")[\"total_SAT\"].agg([\"count\", \"mean\", \"std\"]).round(2)\n",
    "\n",
    "# Filter for max std and make borough a column\n",
    "largest_std_dev = boroughs[boroughs[\"std\"] == boroughs[\"std\"].max()]\n",
    "\n",
    "# Rename the columns for clarity\n",
    "largest_std_dev = largest_std_dev.rename(columns={\"count\": \"num_schools\", \"mean\": \"average_SAT\", \"std\": \"std_SAT\"})\n",
    "\n",
    "# Optional: Move borough from index to column\n",
    "largest_std_dev.reset_index(inplace=True)"
   ]
  }
 ],
 "metadata": {
  "language_info": {
   "name": "python"
  }
 },
 "nbformat": 4,
 "nbformat_minor": 2
}
