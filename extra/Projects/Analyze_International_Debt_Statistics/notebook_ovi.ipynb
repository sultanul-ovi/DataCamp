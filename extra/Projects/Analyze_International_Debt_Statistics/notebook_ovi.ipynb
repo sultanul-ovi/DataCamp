{
 "cells": [
  {
   "cell_type": "markdown",
   "id": "9041cd2e-a5a6-44dd-acd9-4daae006c067",
   "metadata": {},
   "source": [
    "![](image.jpg)\n",
    "\n",
    "Humans not only take debts to manage necessities. A country may also take debt to manage its economy. For example, infrastructure spending is one costly ingredient required for a country's citizens to lead comfortable lives. The World Bank is the organization that provides debt to countries.\n",
    "\n",
    "In this project, you are going to analyze international debt data collected by The World Bank. The dataset contains information about the amount of debt (in USD) owed by developing countries across several categories. You are going to find the answers to the following questions:\n",
    "\n",
    "- What is the number of distinct countries present in the database?\n",
    "- What country has the highest amount of debt?\n",
    "- What country has the lowest amount of repayments?\n",
    "\n",
    "Below is a description of the table you will be working with:\n",
    "\n",
    "## `international_debt` table\n",
    "\n",
    "| Column | Definition | Data Type |\n",
    "|-|-|-|\n",
    "|country_name|Name of the country|`varchar`|\n",
    "|country_code|Code representing the country|`varchar`|\n",
    "|indicator_name|Description of the debt indicator|`varchar`|\n",
    "|indicator_code|Code representing the debt indicator|`varchar`|\n",
    "|debt|Value of the debt indicator for the given country (in current US dollars)|`float`|\n",
    "\n",
    "You will execute SQL queries to answer three questions, as listed in the instructions."
   ]
  },
  {
   "cell_type": "markdown",
   "id": "b3b41956",
   "metadata": {},
   "source": [
    "Three SQL cells have been created for you in the workbook, please write SQL queries in each of these cells to answer the following:\n",
    "\n",
    "What is the number of distinct countries present in the database? The output should be single row and column aliased as total_distinct_countries. Save the query as num_distinct_countries.\n",
    "\n",
    "What country has the highest amount of debt? Your output should contain two columns: country_name and total_debt and one row. Save the query as highest_debt_country.\n",
    "\n",
    "What country has the lowest amount of principal repayments (indicated by the \"DT.AMT.DLXF.CD\" indicator code)? The output table should contain three columns: country_name, indicator_name, and lowest_repayment and one row, saved in the query lowest_principal_repayment.\n",
    "\n",
    "Note: Creating new cells in the workbook will rename the DataFrames. Make sure that your final solution uses the names provided above."
   ]
  },
  {
   "cell_type": "code",
   "execution_count": 13,
   "id": "63ae86de-f519-4736-a9ab-886f71129cf3",
   "metadata": {
    "customType": "sql",
    "dataFrameVariableName": "num_distinct_countries",
    "executionCancelledAt": null,
    "executionTime": 974,
    "lastExecutedAt": 1739104430748,
    "lastExecutedByKernel": "ed4f8286-44c5-4e06-b975-93786738f97a",
    "lastScheduledRunId": null,
    "lastSuccessfullyExecutedCode": "-- num_distinct_countries \nSELECT \n    COUNT(DISTINCT(country_name)) AS total_distinct_countries\nFROM international_debt;",
    "outputsMetadata": {
     "0": {
      "height": 137,
      "tableState": {
       "quickFilterText": ""
      },
      "type": "dataFrame"
     }
    },
    "sqlCellMode": "dataFrame",
    "sqlSource": {
     "integrationId": "89e17161-a224-4a8a-846b-0adc0fe7a4b1",
     "integrationType": "postgresql",
     "type": "integration"
    }
   },
   "outputs": [
    {
     "data": {
      "application/com.datacamp.data-table.v2+json": {
       "table": {
        "data": {
         "index": [
          0
         ],
         "total_distinct_countries": [
          124
         ]
        },
        "schema": {
         "fields": [
          {
           "name": "index",
           "type": "integer"
          },
          {
           "name": "total_distinct_countries",
           "type": "integer"
          }
         ],
         "pandas_version": "1.4.0",
         "primaryKey": [
          "index"
         ]
        }
       },
       "total_rows": 1,
       "truncation_type": null
      },
      "text/html": [
       "<div>\n",
       "<style scoped>\n",
       "    .dataframe tbody tr th:only-of-type {\n",
       "        vertical-align: middle;\n",
       "    }\n",
       "\n",
       "    .dataframe tbody tr th {\n",
       "        vertical-align: top;\n",
       "    }\n",
       "\n",
       "    .dataframe thead th {\n",
       "        text-align: right;\n",
       "    }\n",
       "</style>\n",
       "<table border=\"1\" class=\"dataframe\">\n",
       "  <thead>\n",
       "    <tr style=\"text-align: right;\">\n",
       "      <th></th>\n",
       "      <th>total_distinct_countries</th>\n",
       "    </tr>\n",
       "  </thead>\n",
       "  <tbody>\n",
       "    <tr>\n",
       "      <th>0</th>\n",
       "      <td>124</td>\n",
       "    </tr>\n",
       "  </tbody>\n",
       "</table>\n",
       "</div>"
      ],
      "text/plain": [
       "   total_distinct_countries\n",
       "0                       124"
      ]
     },
     "execution_count": 13,
     "metadata": {
      "application/com.datacamp.data-table.v2+json": {
       "status": "success"
      }
     },
     "output_type": "execute_result"
    }
   ],
   "source": [
    "-- num_distinct_countries \n",
    "SELECT \n",
    "    COUNT(DISTINCT(country_name)) AS total_distinct_countries\n",
    "FROM international_debt;"
   ]
  },
  {
   "cell_type": "code",
   "execution_count": 14,
   "id": "8b8afd6e-b2eb-4637-a16f-8671b51e7317",
   "metadata": {
    "customType": "sql",
    "dataFrameVariableName": "highest_debt_country",
    "executionCancelledAt": null,
    "executionTime": 1225,
    "lastExecutedAt": 1739104431973,
    "lastExecutedByKernel": "ed4f8286-44c5-4e06-b975-93786738f97a",
    "lastScheduledRunId": null,
    "lastSuccessfullyExecutedCode": "-- highest_debt_country \nSELECT \n    country_name,\n    SUM(debt) as total_debt\nFROM international_debt\nGROUP BY country_name\nORDER BY total_debt DESC\nLIMIT 1;",
    "outputsMetadata": {
     "0": {
      "height": 137,
      "tableState": {
       "customFilter": {
        "const": {
         "type": "boolean",
         "valid": true,
         "value": true
        },
        "id": "90f9df4e-3fb1-4025-8a44-ae3ac507d7fe",
        "nodeType": "const"
       },
       "quickFilterText": ""
      },
      "type": "dataFrame"
     }
    },
    "sqlCellMode": "dataFrame",
    "sqlSource": {
     "integrationId": "89e17161-a224-4a8a-846b-0adc0fe7a4b1",
     "integrationType": "postgresql",
     "type": "integration"
    }
   },
   "outputs": [
    {
     "data": {
      "application/com.datacamp.data-table.v2+json": {
       "table": {
        "data": {
         "country_name": [
          "China"
         ],
         "index": [
          0
         ],
         "total_debt": [
          285793494734.2
         ]
        },
        "schema": {
         "fields": [
          {
           "name": "index",
           "type": "integer"
          },
          {
           "name": "country_name",
           "type": "string"
          },
          {
           "name": "total_debt",
           "type": "number"
          }
         ],
         "pandas_version": "1.4.0",
         "primaryKey": [
          "index"
         ]
        }
       },
       "total_rows": 1,
       "truncation_type": null
      },
      "text/html": [
       "<div>\n",
       "<style scoped>\n",
       "    .dataframe tbody tr th:only-of-type {\n",
       "        vertical-align: middle;\n",
       "    }\n",
       "\n",
       "    .dataframe tbody tr th {\n",
       "        vertical-align: top;\n",
       "    }\n",
       "\n",
       "    .dataframe thead th {\n",
       "        text-align: right;\n",
       "    }\n",
       "</style>\n",
       "<table border=\"1\" class=\"dataframe\">\n",
       "  <thead>\n",
       "    <tr style=\"text-align: right;\">\n",
       "      <th></th>\n",
       "      <th>country_name</th>\n",
       "      <th>total_debt</th>\n",
       "    </tr>\n",
       "  </thead>\n",
       "  <tbody>\n",
       "    <tr>\n",
       "      <th>0</th>\n",
       "      <td>China</td>\n",
       "      <td>2.857935e+11</td>\n",
       "    </tr>\n",
       "  </tbody>\n",
       "</table>\n",
       "</div>"
      ],
      "text/plain": [
       "  country_name    total_debt\n",
       "0        China  2.857935e+11"
      ]
     },
     "execution_count": 14,
     "metadata": {
      "application/com.datacamp.data-table.v2+json": {
       "status": "success"
      }
     },
     "output_type": "execute_result"
    }
   ],
   "source": [
    "-- highest_debt_country \n",
    "SELECT \n",
    "    country_name,\n",
    "    SUM(debt) as total_debt\n",
    "FROM international_debt\n",
    "GROUP BY country_name\n",
    "ORDER BY total_debt DESC\n",
    "LIMIT 1;"
   ]
  },
  {
   "cell_type": "code",
   "execution_count": 15,
   "id": "1cdf2f88-7aa0-4702-8422-84098b742be4",
   "metadata": {
    "customType": "sql",
    "dataFrameVariableName": "lowest_principal_repayment",
    "executionCancelledAt": null,
    "executionTime": null,
    "lastExecutedAt": null,
    "lastExecutedByKernel": null,
    "lastScheduledRunId": null,
    "lastSuccessfullyExecutedCode": null,
    "outputsMetadata": {
     "0": {
      "height": 137,
      "tableState": {
       "quickFilterText": ""
      },
      "type": "dataFrame"
     }
    },
    "sqlCellMode": "dataFrame",
    "sqlSource": {
     "integrationId": "89e17161-a224-4a8a-846b-0adc0fe7a4b1",
     "integrationType": "postgresql",
     "type": "integration"
    }
   },
   "outputs": [
    {
     "data": {
      "application/com.datacamp.data-table.v2+json": {
       "table": {
        "data": {
         "country_name": [
          "Timor-Leste"
         ],
         "index": [
          0
         ],
         "indicator_name": [
          "Principal repayments on external debt, long-term (AMT, current US$)"
         ],
         "lowest_repayment": [
          825000
         ]
        },
        "schema": {
         "fields": [
          {
           "name": "index",
           "type": "integer"
          },
          {
           "name": "country_name",
           "type": "string"
          },
          {
           "name": "indicator_name",
           "type": "string"
          },
          {
           "name": "lowest_repayment",
           "type": "integer"
          }
         ],
         "pandas_version": "1.4.0",
         "primaryKey": [
          "index"
         ]
        }
       },
       "total_rows": 1,
       "truncation_type": null
      },
      "text/html": [
       "<div>\n",
       "<style scoped>\n",
       "    .dataframe tbody tr th:only-of-type {\n",
       "        vertical-align: middle;\n",
       "    }\n",
       "\n",
       "    .dataframe tbody tr th {\n",
       "        vertical-align: top;\n",
       "    }\n",
       "\n",
       "    .dataframe thead th {\n",
       "        text-align: right;\n",
       "    }\n",
       "</style>\n",
       "<table border=\"1\" class=\"dataframe\">\n",
       "  <thead>\n",
       "    <tr style=\"text-align: right;\">\n",
       "      <th></th>\n",
       "      <th>country_name</th>\n",
       "      <th>indicator_name</th>\n",
       "      <th>lowest_repayment</th>\n",
       "    </tr>\n",
       "  </thead>\n",
       "  <tbody>\n",
       "    <tr>\n",
       "      <th>0</th>\n",
       "      <td>Timor-Leste</td>\n",
       "      <td>Principal repayments on external debt, long-te...</td>\n",
       "      <td>825000</td>\n",
       "    </tr>\n",
       "  </tbody>\n",
       "</table>\n",
       "</div>"
      ],
      "text/plain": [
       "  country_name  ... lowest_repayment\n",
       "0  Timor-Leste  ...           825000\n",
       "\n",
       "[1 rows x 3 columns]"
      ]
     },
     "execution_count": 15,
     "metadata": {
      "application/com.datacamp.data-table.v2+json": {
       "status": "success"
      }
     },
     "output_type": "execute_result"
    }
   ],
   "source": [
    "-- lowest_principal_repayment \n",
    "SELECT \n",
    "    country_name,\n",
    "    indicator_name,\n",
    "    debt as lowest_repayment\n",
    "FROM international_debt\n",
    "WHERE indicator_code = 'DT.AMT.DLXF.CD'\n",
    "ORDER BY debt ASC\n",
    "LIMIT 1;"
   ]
  }
 ],
 "metadata": {
  "colab": {
   "name": "Welcome to DataCamp Workspaces.ipynb",
   "provenance": []
  },
  "kernelspec": {
   "display_name": "Python 3 (ipykernel)",
   "language": "python",
   "name": "python3"
  },
  "language_info": {
   "codemirror_mode": {
    "name": "ipython",
    "version": 3
   },
   "file_extension": ".py",
   "mimetype": "text/x-python",
   "name": "python",
   "nbconvert_exporter": "python",
   "pygments_lexer": "ipython3",
   "version": "3.8.10"
  }
 },
 "nbformat": 4,
 "nbformat_minor": 5
}
