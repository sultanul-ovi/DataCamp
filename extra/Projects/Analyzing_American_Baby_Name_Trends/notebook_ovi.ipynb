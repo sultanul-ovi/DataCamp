{
 "cells": [
  {
   "cell_type": "markdown",
   "id": "b1f4768d-59cf-4d71-97cd-19a3fa6d700e",
   "metadata": {},
   "source": [
    "![baby_names](baby_names.jpg)\n"
   ]
  },
  {
   "cell_type": "markdown",
   "id": "f6cbf3f3-92ed-4414-ba80-002c1a7ca0ed",
   "metadata": {},
   "source": [
    "How have American baby name tastes changed since 1920? Which names have remained popular for over 100 years, and how do those names compare to more recent top baby names? These are considerations for many new parents, but the skills you'll practice while answering these queries are broadly applicable. After all, understanding trends and popularity is important for many businesses, too!\n",
    "\n",
    "You'll be working with data provided by the United States Social Security Administration, which lists first names along with the number and sex of babies they were given to in each year. For processing speed purposes, the dataset is limited to first names which were given to over 5,000 American babies in a given year. The data spans 101 years, from 1920 through 2020.\n",
    "\n",
    "## The Data\n",
    "\n",
    "### `baby_names`\n",
    "\n",
    "| column         | type    | description                                                                  |\n",
    "| -------------- | ------- | ------------------------------------------------------------------------ |\n",
    "| `year`         | int     | year                                                                     |\n",
    "| `first_name`   | varchar | first name                                                               |\n",
    "| `sex`          | varchar | `sex` of babies given `first_name`                                       |\n",
    "| `num`          | int     | number of babies of `sex` given `first_name` in that `year`              |\n"
   ]
  },
  {
   "cell_type": "markdown",
   "id": "ce6cec7b",
   "metadata": {},
   "source": [
    "Before you proceed, consider the assumption that a name is considered \"Classic\" if it appears in 50 or more years, and \"Trendy\" otherwise.\n",
    "\n",
    "List the first five names in alphabetical order and find out if each name is \"Classic\" or \"Trendy.\" Save your query as a DataFrame name_types with three columns: first_name, sum, and popularity_type.\n",
    "\n",
    "What were the top 20 male names overall, and how did the name Paul rank? Save your query as a DataFrame top_20 with three columns: name_rank, first_name, and sum.\n",
    "\n",
    "Which female names appeared in both 1920 and 2020? Save your query as a DataFrame a_names with two columns: first_name, and total_occurrences."
   ]
  },
  {
   "cell_type": "code",
   "execution_count": 5,
   "id": "9fec6084-70f6-4f82-9463-9c7734ed36f5",
   "metadata": {
    "customType": "sql",
    "dataFrameVariableName": "usa_baby_names",
    "executionCancelledAt": null,
    "executionTime": 965,
    "lastExecutedAt": 1739106407036,
    "lastExecutedByKernel": "f9cf3fd3-dcde-46d9-a248-c9e8084ab7d4",
    "lastScheduledRunId": null,
    "lastSuccessfullyExecutedCode": "-- Run this code to view the data in baby_names\nSELECT *\nFROM baby_names\nLIMIT 5;",
    "outputsMetadata": {
     "0": {
      "height": 50,
      "tableState": {
       "customFilter": {
        "const": {
         "type": "boolean",
         "valid": true,
         "value": true
        },
        "id": "7e4b0c8d-8849-452d-8c02-13ed69ba4956",
        "nodeType": "const"
       },
       "quickFilterText": ""
      },
      "type": "dataFrame"
     }
    },
    "sqlCellMode": "dataFrame",
    "sqlSource": {
     "integrationId": "89e17161-a224-4a8a-846b-0adc0fe7a4b1",
     "integrationType": "postgresql",
     "type": "integration"
    }
   },
   "outputs": [
    {
     "data": {
      "application/com.datacamp.data-table.v2+json": {
       "table": {
        "data": {
         "first_name": [
          "Mary",
          "Dorothy",
          "Helen",
          "Margaret",
          "Ruth"
         ],
         "index": [
          0,
          1,
          2,
          3,
          4
         ],
         "num": [
          70982,
          36643,
          35097,
          27994,
          26101
         ],
         "sex": [
          "F",
          "F",
          "F",
          "F",
          "F"
         ],
         "year": [
          1920,
          1920,
          1920,
          1920,
          1920
         ]
        },
        "schema": {
         "fields": [
          {
           "name": "index",
           "type": "integer"
          },
          {
           "name": "year",
           "type": "integer"
          },
          {
           "name": "first_name",
           "type": "string"
          },
          {
           "name": "sex",
           "type": "string"
          },
          {
           "name": "num",
           "type": "integer"
          }
         ],
         "pandas_version": "1.4.0",
         "primaryKey": [
          "index"
         ]
        }
       },
       "total_rows": 5,
       "truncation_type": null
      },
      "text/html": [
       "<div>\n",
       "<style scoped>\n",
       "    .dataframe tbody tr th:only-of-type {\n",
       "        vertical-align: middle;\n",
       "    }\n",
       "\n",
       "    .dataframe tbody tr th {\n",
       "        vertical-align: top;\n",
       "    }\n",
       "\n",
       "    .dataframe thead th {\n",
       "        text-align: right;\n",
       "    }\n",
       "</style>\n",
       "<table border=\"1\" class=\"dataframe\">\n",
       "  <thead>\n",
       "    <tr style=\"text-align: right;\">\n",
       "      <th></th>\n",
       "      <th>year</th>\n",
       "      <th>first_name</th>\n",
       "      <th>sex</th>\n",
       "      <th>num</th>\n",
       "    </tr>\n",
       "  </thead>\n",
       "  <tbody>\n",
       "    <tr>\n",
       "      <th>0</th>\n",
       "      <td>1920</td>\n",
       "      <td>Mary</td>\n",
       "      <td>F</td>\n",
       "      <td>70982</td>\n",
       "    </tr>\n",
       "    <tr>\n",
       "      <th>1</th>\n",
       "      <td>1920</td>\n",
       "      <td>Dorothy</td>\n",
       "      <td>F</td>\n",
       "      <td>36643</td>\n",
       "    </tr>\n",
       "    <tr>\n",
       "      <th>2</th>\n",
       "      <td>1920</td>\n",
       "      <td>Helen</td>\n",
       "      <td>F</td>\n",
       "      <td>35097</td>\n",
       "    </tr>\n",
       "    <tr>\n",
       "      <th>3</th>\n",
       "      <td>1920</td>\n",
       "      <td>Margaret</td>\n",
       "      <td>F</td>\n",
       "      <td>27994</td>\n",
       "    </tr>\n",
       "    <tr>\n",
       "      <th>4</th>\n",
       "      <td>1920</td>\n",
       "      <td>Ruth</td>\n",
       "      <td>F</td>\n",
       "      <td>26101</td>\n",
       "    </tr>\n",
       "  </tbody>\n",
       "</table>\n",
       "</div>"
      ],
      "text/plain": [
       "   year first_name sex    num\n",
       "0  1920       Mary   F  70982\n",
       "1  1920    Dorothy   F  36643\n",
       "2  1920      Helen   F  35097\n",
       "3  1920   Margaret   F  27994\n",
       "4  1920       Ruth   F  26101"
      ]
     },
     "execution_count": 5,
     "metadata": {
      "application/com.datacamp.data-table.v2+json": {
       "status": "success"
      }
     },
     "output_type": "execute_result"
    }
   ],
   "source": [
    "-- Run this code to view the data in baby_names\n",
    "SELECT *\n",
    "FROM baby_names\n",
    "LIMIT 5;"
   ]
  },
  {
   "cell_type": "code",
   "execution_count": 6,
   "id": "494ba253-5d78-480b-b39b-f028130cc647",
   "metadata": {
    "customType": "sql",
    "dataFrameVariableName": "name_types",
    "executionCancelledAt": null,
    "executionTime": 919,
    "lastExecutedAt": 1739106407955,
    "lastExecutedByKernel": "f9cf3fd3-dcde-46d9-a248-c9e8084ab7d4",
    "lastScheduledRunId": null,
    "lastSuccessfullyExecutedCode": "-- Use this table for the answer to question 1:\n-- List the overall top five names in alphabetical order and find out if each name is \"Classic\" or \"Trendy.\"\nWITH name_counts AS (\n    SELECT \n        first_name,\n        COUNT(DISTINCT year) as years_appeared,\n        SUM(num) as total_sum\n    FROM baby_names\n    GROUP BY first_name\n)\nSELECT \n    first_name,\n    total_sum as sum,\n    CASE \n        WHEN years_appeared >= 50 THEN 'Classic'\n        ELSE 'Trendy'\n    END as popularity_type\nFROM name_counts\nORDER BY first_name\nLIMIT 5;",
    "outputsMetadata": {
     "0": {
      "height": 50,
      "tableState": {
       "customFilter": {
        "const": {
         "type": "boolean",
         "valid": true,
         "value": true
        },
        "id": "7e4b0c8d-8849-452d-8c02-13ed69ba4956",
        "nodeType": "const"
       },
       "quickFilterText": ""
      },
      "type": "dataFrame"
     }
    },
    "sqlCellMode": "dataFrame",
    "sqlSource": {
     "integrationId": "89e17161-a224-4a8a-846b-0adc0fe7a4b1",
     "integrationType": "postgresql",
     "type": "integration"
    }
   },
   "outputs": [
    {
     "data": {
      "application/com.datacamp.data-table.v2+json": {
       "table": {
        "data": {
         "first_name": [
          "Aaliyah",
          "Aaron",
          "Abigail",
          "Adam",
          "Addison"
         ],
         "index": [
          0,
          1,
          2,
          3,
          4
         ],
         "popularity_type": [
          "Trendy",
          "Classic",
          "Trendy",
          "Trendy",
          "Trendy"
         ],
         "sum": [
          15870,
          530592,
          338485,
          497293,
          107433
         ]
        },
        "schema": {
         "fields": [
          {
           "name": "index",
           "type": "integer"
          },
          {
           "name": "first_name",
           "type": "string"
          },
          {
           "name": "sum",
           "type": "integer"
          },
          {
           "name": "popularity_type",
           "type": "string"
          }
         ],
         "pandas_version": "1.4.0",
         "primaryKey": [
          "index"
         ]
        }
       },
       "total_rows": 5,
       "truncation_type": null
      },
      "text/html": [
       "<div>\n",
       "<style scoped>\n",
       "    .dataframe tbody tr th:only-of-type {\n",
       "        vertical-align: middle;\n",
       "    }\n",
       "\n",
       "    .dataframe tbody tr th {\n",
       "        vertical-align: top;\n",
       "    }\n",
       "\n",
       "    .dataframe thead th {\n",
       "        text-align: right;\n",
       "    }\n",
       "</style>\n",
       "<table border=\"1\" class=\"dataframe\">\n",
       "  <thead>\n",
       "    <tr style=\"text-align: right;\">\n",
       "      <th></th>\n",
       "      <th>first_name</th>\n",
       "      <th>sum</th>\n",
       "      <th>popularity_type</th>\n",
       "    </tr>\n",
       "  </thead>\n",
       "  <tbody>\n",
       "    <tr>\n",
       "      <th>0</th>\n",
       "      <td>Aaliyah</td>\n",
       "      <td>15870</td>\n",
       "      <td>Trendy</td>\n",
       "    </tr>\n",
       "    <tr>\n",
       "      <th>1</th>\n",
       "      <td>Aaron</td>\n",
       "      <td>530592</td>\n",
       "      <td>Classic</td>\n",
       "    </tr>\n",
       "    <tr>\n",
       "      <th>2</th>\n",
       "      <td>Abigail</td>\n",
       "      <td>338485</td>\n",
       "      <td>Trendy</td>\n",
       "    </tr>\n",
       "    <tr>\n",
       "      <th>3</th>\n",
       "      <td>Adam</td>\n",
       "      <td>497293</td>\n",
       "      <td>Trendy</td>\n",
       "    </tr>\n",
       "    <tr>\n",
       "      <th>4</th>\n",
       "      <td>Addison</td>\n",
       "      <td>107433</td>\n",
       "      <td>Trendy</td>\n",
       "    </tr>\n",
       "  </tbody>\n",
       "</table>\n",
       "</div>"
      ],
      "text/plain": [
       "  first_name     sum popularity_type\n",
       "0    Aaliyah   15870          Trendy\n",
       "1      Aaron  530592         Classic\n",
       "2    Abigail  338485          Trendy\n",
       "3       Adam  497293          Trendy\n",
       "4    Addison  107433          Trendy"
      ]
     },
     "execution_count": 6,
     "metadata": {
      "application/com.datacamp.data-table.v2+json": {
       "status": "success"
      }
     },
     "output_type": "execute_result"
    }
   ],
   "source": [
    "-- Use this table for the answer to question 1:\n",
    "-- List the overall top five names in alphabetical order and find out if each name is \"Classic\" or \"Trendy.\"\n",
    "WITH name_counts AS (\n",
    "    SELECT \n",
    "        first_name,\n",
    "        COUNT(DISTINCT year) as years_appeared,\n",
    "        SUM(num) as total_sum\n",
    "    FROM baby_names\n",
    "    GROUP BY first_name\n",
    ")\n",
    "SELECT \n",
    "    first_name,\n",
    "    total_sum as sum,\n",
    "    CASE \n",
    "        WHEN years_appeared >= 50 THEN 'Classic'\n",
    "        ELSE 'Trendy'\n",
    "    END as popularity_type\n",
    "FROM name_counts\n",
    "ORDER BY first_name\n",
    "LIMIT 5;"
   ]
  },
  {
   "cell_type": "code",
   "execution_count": 7,
   "id": "cfd0ee5c-5806-4c21-8e66-91a5fc342c9f",
   "metadata": {
    "customType": "sql",
    "dataFrameVariableName": "top_20",
    "executionCancelledAt": null,
    "executionTime": 883,
    "lastExecutedAt": 1739106408838,
    "lastExecutedByKernel": "f9cf3fd3-dcde-46d9-a248-c9e8084ab7d4",
    "lastScheduledRunId": null,
    "lastSuccessfullyExecutedCode": "-- Use this table for the answer to question 2:\n-- What were the top 20 male names overall, and how did the name Paul rank?\nWITH name_sums AS (\n    SELECT \n        first_name,\n        SUM(num) as sum,\n        ROW_NUMBER() OVER (ORDER BY SUM(num) DESC) as name_rank\n    FROM baby_names\n    WHERE sex = 'M'\n    GROUP BY first_name\n)\nSELECT \n    name_rank,\n    first_name,\n    sum\nFROM name_sums\nWHERE name_rank <= 20 OR first_name = 'Paul'\nORDER BY name_rank;",
    "outputsMetadata": {
     "0": {
      "height": 550,
      "tableState": {
       "customFilter": {
        "const": {
         "type": "boolean",
         "valid": true,
         "value": true
        },
        "id": "7e4b0c8d-8849-452d-8c02-13ed69ba4956",
        "nodeType": "const"
       },
       "quickFilterText": ""
      },
      "type": "dataFrame"
     }
    },
    "sqlCellMode": "dataFrame",
    "sqlSource": {
     "integrationId": "89e17161-a224-4a8a-846b-0adc0fe7a4b1",
     "integrationType": "postgresql",
     "type": "integration"
    }
   },
   "outputs": [
    {
     "data": {
      "application/com.datacamp.data-table.v2+json": {
       "table": {
        "data": {
         "first_name": [
          "James",
          "John",
          "Robert",
          "Michael",
          "William",
          "David",
          "Richard",
          "Joseph",
          "Thomas",
          "Charles",
          "Christopher",
          "Daniel",
          "Matthew",
          "Anthony",
          "Donald",
          "Mark",
          "Paul",
          "Steven",
          "Joshua",
          "Andrew"
         ],
         "index": [
          0,
          1,
          2,
          3,
          4,
          5,
          6,
          7,
          8,
          9,
          10,
          11,
          12,
          13,
          14,
          15,
          16,
          17,
          18,
          19
         ],
         "name_rank": [
          1,
          2,
          3,
          4,
          5,
          6,
          7,
          8,
          9,
          10,
          11,
          12,
          13,
          14,
          15,
          16,
          17,
          18,
          19,
          20
         ],
         "sum": [
          4748138,
          4510721,
          4495199,
          4278824,
          3614424,
          3571498,
          2414838,
          2361382,
          2166802,
          2112352,
          2012792,
          1824274,
          1567204,
          1344352,
          1280236,
          1265910,
          1218996,
          1216819,
          1204236,
          1157548
         ]
        },
        "schema": {
         "fields": [
          {
           "name": "index",
           "type": "integer"
          },
          {
           "name": "name_rank",
           "type": "integer"
          },
          {
           "name": "first_name",
           "type": "string"
          },
          {
           "name": "sum",
           "type": "integer"
          }
         ],
         "pandas_version": "1.4.0",
         "primaryKey": [
          "index"
         ]
        }
       },
       "total_rows": 20,
       "truncation_type": null
      },
      "text/html": [
       "<div>\n",
       "<style scoped>\n",
       "    .dataframe tbody tr th:only-of-type {\n",
       "        vertical-align: middle;\n",
       "    }\n",
       "\n",
       "    .dataframe tbody tr th {\n",
       "        vertical-align: top;\n",
       "    }\n",
       "\n",
       "    .dataframe thead th {\n",
       "        text-align: right;\n",
       "    }\n",
       "</style>\n",
       "<table border=\"1\" class=\"dataframe\">\n",
       "  <thead>\n",
       "    <tr style=\"text-align: right;\">\n",
       "      <th></th>\n",
       "      <th>name_rank</th>\n",
       "      <th>first_name</th>\n",
       "      <th>sum</th>\n",
       "    </tr>\n",
       "  </thead>\n",
       "  <tbody>\n",
       "    <tr>\n",
       "      <th>0</th>\n",
       "      <td>1</td>\n",
       "      <td>James</td>\n",
       "      <td>4748138</td>\n",
       "    </tr>\n",
       "    <tr>\n",
       "      <th>1</th>\n",
       "      <td>2</td>\n",
       "      <td>John</td>\n",
       "      <td>4510721</td>\n",
       "    </tr>\n",
       "    <tr>\n",
       "      <th>2</th>\n",
       "      <td>3</td>\n",
       "      <td>Robert</td>\n",
       "      <td>4495199</td>\n",
       "    </tr>\n",
       "    <tr>\n",
       "      <th>3</th>\n",
       "      <td>4</td>\n",
       "      <td>Michael</td>\n",
       "      <td>4278824</td>\n",
       "    </tr>\n",
       "    <tr>\n",
       "      <th>4</th>\n",
       "      <td>5</td>\n",
       "      <td>William</td>\n",
       "      <td>3614424</td>\n",
       "    </tr>\n",
       "    <tr>\n",
       "      <th>5</th>\n",
       "      <td>6</td>\n",
       "      <td>David</td>\n",
       "      <td>3571498</td>\n",
       "    </tr>\n",
       "    <tr>\n",
       "      <th>6</th>\n",
       "      <td>7</td>\n",
       "      <td>Richard</td>\n",
       "      <td>2414838</td>\n",
       "    </tr>\n",
       "    <tr>\n",
       "      <th>7</th>\n",
       "      <td>8</td>\n",
       "      <td>Joseph</td>\n",
       "      <td>2361382</td>\n",
       "    </tr>\n",
       "    <tr>\n",
       "      <th>8</th>\n",
       "      <td>9</td>\n",
       "      <td>Thomas</td>\n",
       "      <td>2166802</td>\n",
       "    </tr>\n",
       "    <tr>\n",
       "      <th>9</th>\n",
       "      <td>10</td>\n",
       "      <td>Charles</td>\n",
       "      <td>2112352</td>\n",
       "    </tr>\n",
       "    <tr>\n",
       "      <th>10</th>\n",
       "      <td>11</td>\n",
       "      <td>Christopher</td>\n",
       "      <td>2012792</td>\n",
       "    </tr>\n",
       "    <tr>\n",
       "      <th>11</th>\n",
       "      <td>12</td>\n",
       "      <td>Daniel</td>\n",
       "      <td>1824274</td>\n",
       "    </tr>\n",
       "    <tr>\n",
       "      <th>12</th>\n",
       "      <td>13</td>\n",
       "      <td>Matthew</td>\n",
       "      <td>1567204</td>\n",
       "    </tr>\n",
       "    <tr>\n",
       "      <th>13</th>\n",
       "      <td>14</td>\n",
       "      <td>Anthony</td>\n",
       "      <td>1344352</td>\n",
       "    </tr>\n",
       "    <tr>\n",
       "      <th>14</th>\n",
       "      <td>15</td>\n",
       "      <td>Donald</td>\n",
       "      <td>1280236</td>\n",
       "    </tr>\n",
       "    <tr>\n",
       "      <th>15</th>\n",
       "      <td>16</td>\n",
       "      <td>Mark</td>\n",
       "      <td>1265910</td>\n",
       "    </tr>\n",
       "    <tr>\n",
       "      <th>16</th>\n",
       "      <td>17</td>\n",
       "      <td>Paul</td>\n",
       "      <td>1218996</td>\n",
       "    </tr>\n",
       "    <tr>\n",
       "      <th>17</th>\n",
       "      <td>18</td>\n",
       "      <td>Steven</td>\n",
       "      <td>1216819</td>\n",
       "    </tr>\n",
       "    <tr>\n",
       "      <th>18</th>\n",
       "      <td>19</td>\n",
       "      <td>Joshua</td>\n",
       "      <td>1204236</td>\n",
       "    </tr>\n",
       "    <tr>\n",
       "      <th>19</th>\n",
       "      <td>20</td>\n",
       "      <td>Andrew</td>\n",
       "      <td>1157548</td>\n",
       "    </tr>\n",
       "  </tbody>\n",
       "</table>\n",
       "</div>"
      ],
      "text/plain": [
       "    name_rank   first_name      sum\n",
       "0           1        James  4748138\n",
       "1           2         John  4510721\n",
       "2           3       Robert  4495199\n",
       "3           4      Michael  4278824\n",
       "4           5      William  3614424\n",
       "5           6        David  3571498\n",
       "6           7      Richard  2414838\n",
       "7           8       Joseph  2361382\n",
       "8           9       Thomas  2166802\n",
       "9          10      Charles  2112352\n",
       "10         11  Christopher  2012792\n",
       "11         12       Daniel  1824274\n",
       "12         13      Matthew  1567204\n",
       "13         14      Anthony  1344352\n",
       "14         15       Donald  1280236\n",
       "15         16         Mark  1265910\n",
       "16         17         Paul  1218996\n",
       "17         18       Steven  1216819\n",
       "18         19       Joshua  1204236\n",
       "19         20       Andrew  1157548"
      ]
     },
     "execution_count": 7,
     "metadata": {
      "application/com.datacamp.data-table.v2+json": {
       "status": "success"
      }
     },
     "output_type": "execute_result"
    }
   ],
   "source": [
    "-- Use this table for the answer to question 2:\n",
    "-- What were the top 20 male names overall, and how did the name Paul rank?\n",
    "WITH name_sums AS (\n",
    "    SELECT \n",
    "        first_name,\n",
    "        SUM(num) as sum,\n",
    "        ROW_NUMBER() OVER (ORDER BY SUM(num) DESC) as name_rank\n",
    "    FROM baby_names\n",
    "    WHERE sex = 'M'\n",
    "    GROUP BY first_name\n",
    ")\n",
    "SELECT \n",
    "    name_rank,\n",
    "    first_name,\n",
    "    sum\n",
    "FROM name_sums\n",
    "WHERE name_rank <= 20 OR first_name = 'Paul'\n",
    "ORDER BY name_rank;"
   ]
  },
  {
   "cell_type": "code",
   "execution_count": 8,
   "id": "034d17ab-0503-4ab1-8a21-50bc9bb09e8c",
   "metadata": {
    "customType": "sql",
    "dataFrameVariableName": "a_names",
    "executionCancelledAt": null,
    "executionTime": null,
    "lastExecutedAt": null,
    "lastExecutedByKernel": null,
    "lastScheduledRunId": null,
    "lastSuccessfullyExecutedCode": null,
    "outputsMetadata": {
     "0": {
      "height": 272,
      "tableState": {
       "customFilter": {
        "const": {
         "type": "boolean",
         "valid": true,
         "value": true
        },
        "id": "7e4b0c8d-8849-452d-8c02-13ed69ba4956",
        "nodeType": "const"
       },
       "quickFilterText": ""
      },
      "type": "dataFrame"
     }
    },
    "sqlCellMode": "dataFrame",
    "sqlSource": {
     "integrationId": "89e17161-a224-4a8a-846b-0adc0fe7a4b1",
     "integrationType": "postgresql",
     "type": "integration"
    }
   },
   "outputs": [
    {
     "data": {
      "application/com.datacamp.data-table.v2+json": {
       "table": {
        "data": {
         "first_name": [
          "Elizabeth",
          "Emma",
          "Evelyn",
          "Grace",
          "Eleanor",
          "Hazel"
         ],
         "index": [
          0,
          1,
          2,
          3,
          4,
          5
         ],
         "total_occurrences": [
          1436286,
          448087,
          310824,
          254573,
          119863,
          66103
         ]
        },
        "schema": {
         "fields": [
          {
           "name": "index",
           "type": "integer"
          },
          {
           "name": "first_name",
           "type": "string"
          },
          {
           "name": "total_occurrences",
           "type": "integer"
          }
         ],
         "pandas_version": "1.4.0",
         "primaryKey": [
          "index"
         ]
        }
       },
       "total_rows": 6,
       "truncation_type": null
      },
      "text/html": [
       "<div>\n",
       "<style scoped>\n",
       "    .dataframe tbody tr th:only-of-type {\n",
       "        vertical-align: middle;\n",
       "    }\n",
       "\n",
       "    .dataframe tbody tr th {\n",
       "        vertical-align: top;\n",
       "    }\n",
       "\n",
       "    .dataframe thead th {\n",
       "        text-align: right;\n",
       "    }\n",
       "</style>\n",
       "<table border=\"1\" class=\"dataframe\">\n",
       "  <thead>\n",
       "    <tr style=\"text-align: right;\">\n",
       "      <th></th>\n",
       "      <th>first_name</th>\n",
       "      <th>total_occurrences</th>\n",
       "    </tr>\n",
       "  </thead>\n",
       "  <tbody>\n",
       "    <tr>\n",
       "      <th>0</th>\n",
       "      <td>Elizabeth</td>\n",
       "      <td>1436286</td>\n",
       "    </tr>\n",
       "    <tr>\n",
       "      <th>1</th>\n",
       "      <td>Emma</td>\n",
       "      <td>448087</td>\n",
       "    </tr>\n",
       "    <tr>\n",
       "      <th>2</th>\n",
       "      <td>Evelyn</td>\n",
       "      <td>310824</td>\n",
       "    </tr>\n",
       "    <tr>\n",
       "      <th>3</th>\n",
       "      <td>Grace</td>\n",
       "      <td>254573</td>\n",
       "    </tr>\n",
       "    <tr>\n",
       "      <th>4</th>\n",
       "      <td>Eleanor</td>\n",
       "      <td>119863</td>\n",
       "    </tr>\n",
       "    <tr>\n",
       "      <th>5</th>\n",
       "      <td>Hazel</td>\n",
       "      <td>66103</td>\n",
       "    </tr>\n",
       "  </tbody>\n",
       "</table>\n",
       "</div>"
      ],
      "text/plain": [
       "  first_name  total_occurrences\n",
       "0  Elizabeth            1436286\n",
       "1       Emma             448087\n",
       "2     Evelyn             310824\n",
       "3      Grace             254573\n",
       "4    Eleanor             119863\n",
       "5      Hazel              66103"
      ]
     },
     "execution_count": 8,
     "metadata": {
      "application/com.datacamp.data-table.v2+json": {
       "status": "success"
      }
     },
     "output_type": "execute_result"
    }
   ],
   "source": [
    "-- Use this table for the answer to question 3:\n",
    "-- Which female names appeared in both 1920 and 2020?\n",
    "WITH names_in_both_years AS (\n",
    "    SELECT DISTINCT n1.first_name\n",
    "    FROM baby_names n1\n",
    "    JOIN baby_names n2 ON n1.first_name = n2.first_name\n",
    "    WHERE n1.year = 1920 \n",
    "    AND n2.year = 2020\n",
    "    AND n1.sex = 'F'\n",
    "    AND n2.sex = 'F'\n",
    ")\n",
    "SELECT \n",
    "    b.first_name,\n",
    "    SUM(b.num) as total_occurrences\n",
    "FROM baby_names b\n",
    "JOIN names_in_both_years n ON b.first_name = n.first_name\n",
    "WHERE b.sex = 'F'\n",
    "GROUP BY b.first_name\n",
    "ORDER BY total_occurrences DESC;"
   ]
  }
 ],
 "metadata": {
  "colab": {
   "name": "Welcome to DataCamp Workspaces.ipynb",
   "provenance": []
  },
  "editor": "DataLab",
  "kernelspec": {
   "display_name": "Python 3 (ipykernel)",
   "language": "python",
   "name": "python3"
  },
  "language_info": {
   "codemirror_mode": {
    "name": "ipython",
    "version": 3
   },
   "file_extension": ".py",
   "mimetype": "text/x-python",
   "name": "python",
   "nbconvert_exporter": "python",
   "pygments_lexer": "ipython3",
   "version": "3.8.10"
  }
 },
 "nbformat": 4,
 "nbformat_minor": 5
}
