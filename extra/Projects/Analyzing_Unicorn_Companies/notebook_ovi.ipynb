{
 "cells": [
  {
   "cell_type": "markdown",
   "id": "33dda299-ad0e-4262-b285-7d1297a3ba66",
   "metadata": {},
   "source": [
    "![Hand with calculator](calculator.png)\n",
    "\n",
    "Did you know that the average return from investing in stocks is [10% per year](https://www.nerdwallet.com/article/investing/average-stock-market-return) (not accounting for inflation)? But who wants to be average?! \n",
    "\n",
    "You have been asked to support an investment firm by analyzing trends in high-growth companies. They are interested in understanding which industries are producing the highest valuations and the rate at which new high-value companies are emerging. Providing them with this information gives them a competitive insight as to industry trends and how they should structure their portfolio looking forward.\n",
    "\n",
    "You have been given access to their `unicorns` database, which contains the following tables:\n",
    "\n",
    "## dates\n",
    "| Column       | Description                                  |\n",
    "|------------- |--------------------------------------------- |\n",
    "| `company_id`   | A unique ID for the company.                 |\n",
    "| `date_joined` | The date that the company became a unicorn.  |\n",
    "| `year_founded` | The year that the company was founded.       |\n",
    "\n",
    "## funding\n",
    "| Column           | Description                                  |\n",
    "|----------------- |--------------------------------------------- |\n",
    "| `company_id`       | A unique ID for the company.                 |\n",
    "| `valuation`        | Company value in US dollars.                 |\n",
    "| `funding`          | The amount of funding raised in US dollars.  |\n",
    "| `select_investors` | A list of key investors in the company.      |\n",
    "\n",
    "## industries\n",
    "| Column       | Description                                  |\n",
    "|------------- |--------------------------------------------- |\n",
    "| `company_id`   | A unique ID for the company.                 |\n",
    "| `industry`     | The industry that the company operates in.   |\n",
    "\n",
    "## companies\n",
    "| Column       | Description                                       |\n",
    "|------------- |-------------------------------------------------- |\n",
    "| `company_id`   | A unique ID for the company.                      |\n",
    "| `company`      | The name of the company.                          |\n",
    "| `city`         | The city where the company is headquartered.      |\n",
    "| `country`      | The country where the company is headquartered.   |\n",
    "| `continent`    | The continent where the company is headquartered. |\n"
   ]
  },
  {
   "cell_type": "markdown",
   "id": "48a34f18-9207-4a1d-9c91-0b1a4aec770d",
   "metadata": {},
   "source": [
    "# The output\n",
    "\n",
    "Your query should return a table in the following format:\n",
    "| industry  | year | num\\_unicorns       | average\\_valuation\\_billions |\n",
    "| --------- | ---- | ------------------- | ---------------------------- |\n",
    "| industry1 | 2021 |        ---          |             ---              |\n",
    "| industry2 | 2020 |        ---          |             ---              |\n",
    "| industry3 | 2019 |        ---          |             ---              |\n",
    "| industry1 | 2021 |        ---          |             ---              |\n",
    "| industry2 | 2020 |        ---          |             ---              |\n",
    "| industry3 | 2019 |        ---          |             ---              |\n",
    "| industry1 | 2021 |        ---          |             ---              |\n",
    "| industry2 | 2020 |        ---          |             ---              |\n",
    "| industry3 | 2019 |        ---          |             ---              |\n",
    "\n",
    "Where `industry1`, `industry2`, and `industry3` are the three top-performing industries."
   ]
  },
  {
   "cell_type": "markdown",
   "id": "939ddf24",
   "metadata": {},
   "source": [
    "Your task is to first identify the three best-performing industries based on the number of new unicorns created in 2019, 2020, and 2021 combined.\n",
    "\n",
    "From those industries (1), you will need to find the number of unicorns within these industries (2), the year that they became a unicorn (3), and their average valuation, converted to billions of dollars and rounded to two decimal places (4).\n",
    "\n",
    "With the above information you can then finish your query to return a table containing industry, year, num_unicorns, and average_valuation_billions. For readability, the firm have asked you to sort your results by year and number of unicorns, both in descending order.\n",
    "\n",
    "Note: If you use multiple SQL cells then please ensure your final query containing the desired output is stored as a pandas DataFrame called df at the top of the cell so that your answer can be validated:"
   ]
  },
  {
   "cell_type": "code",
   "execution_count": 2,
   "id": "8d7d8de9-5da9-4b35-bc60-9f0502eb56d6",
   "metadata": {
    "customType": "sql",
    "dataFrameVariableName": "df",
    "executionCancelledAt": null,
    "executionTime": 948,
    "lastExecutedAt": 1739105933616,
    "lastExecutedByKernel": "a06c32f1-eb9b-432f-9763-962b921a253a",
    "lastScheduledRunId": null,
    "lastSuccessfullyExecutedCode": "WITH top_industries AS (\n\tSELECT \n    \ti.industry, \n        COUNT(i.*)\n    FROM industries AS i\n    JOIN dates AS d\n        ON i.company_id = d.company_id\n    WHERE DATE_PART('year', d.date_joined) IN ('2019', '2020', '2021')\n    GROUP BY industry\n    ORDER BY count DESC\n    LIMIT 3\n),\n\nyearly_ranks AS \n(\n    SELECT \n    \tCOUNT(i.*) AS num_unicorns,\n        i.industry,\n        DATE_PART('year', d.date_joined) AS year,\n        AVG(f.valuation) AS average_valuation\n    FROM industries AS i\n    JOIN dates AS d\n        ON i.company_id = d.company_id\n    JOIN funding AS f\n        ON d.company_id = f.company_id\n    GROUP BY industry, year\n)\n\nSELECT \n\tindustry,\n    year,\n    num_unicorns,\n    ROUND(AVG(average_valuation / 1000000000), 2) AS average_valuation_billions\nFROM yearly_ranks\nWHERE year in ('2019', '2020', '2021')\n\tAND industry in (SELECT industry FROM top_industries)\nGROUP BY industry, num_unicorns, year, average_valuation\nORDER BY industry, year DESC",
    "outputsMetadata": {
     "0": {
      "height": 500,
      "tableState": {
       "quickFilterText": ""
      },
      "type": "dataFrame"
     }
    },
    "sqlCellMode": "dataFrame",
    "sqlSource": {
     "integrationId": "89e17161-a224-4a8a-846b-0adc0fe7a4b1",
     "type": "integration"
    }
   },
   "outputs": [
    {
     "data": {
      "application/com.datacamp.data-table.v2+json": {
       "table": {
        "data": {
         "average_valuation_billions": [
          2.47,
          4,
          2.58,
          2.75,
          4.33,
          6.8,
          2.15,
          4.35,
          4.23
         ],
         "index": [
          0,
          1,
          2,
          3,
          4,
          5,
          6,
          7,
          8
         ],
         "industry": [
          "E-commerce & direct-to-consumer",
          "E-commerce & direct-to-consumer",
          "E-commerce & direct-to-consumer",
          "Fintech",
          "Fintech",
          "Fintech",
          "Internet software & services",
          "Internet software & services",
          "Internet software & services"
         ],
         "num_unicorns": [
          47,
          16,
          12,
          138,
          15,
          20,
          119,
          20,
          13
         ],
         "year": [
          2021,
          2020,
          2019,
          2021,
          2020,
          2019,
          2021,
          2020,
          2019
         ]
        },
        "schema": {
         "fields": [
          {
           "name": "index",
           "type": "integer"
          },
          {
           "name": "industry",
           "type": "string"
          },
          {
           "name": "year",
           "type": "integer"
          },
          {
           "name": "num_unicorns",
           "type": "integer"
          },
          {
           "name": "average_valuation_billions",
           "type": "number"
          }
         ],
         "pandas_version": "1.4.0",
         "primaryKey": [
          "index"
         ]
        }
       },
       "total_rows": 9,
       "truncation_type": null
      },
      "text/html": [
       "<div>\n",
       "<style scoped>\n",
       "    .dataframe tbody tr th:only-of-type {\n",
       "        vertical-align: middle;\n",
       "    }\n",
       "\n",
       "    .dataframe tbody tr th {\n",
       "        vertical-align: top;\n",
       "    }\n",
       "\n",
       "    .dataframe thead th {\n",
       "        text-align: right;\n",
       "    }\n",
       "</style>\n",
       "<table border=\"1\" class=\"dataframe\">\n",
       "  <thead>\n",
       "    <tr style=\"text-align: right;\">\n",
       "      <th></th>\n",
       "      <th>industry</th>\n",
       "      <th>year</th>\n",
       "      <th>num_unicorns</th>\n",
       "      <th>average_valuation_billions</th>\n",
       "    </tr>\n",
       "  </thead>\n",
       "  <tbody>\n",
       "    <tr>\n",
       "      <th>0</th>\n",
       "      <td>E-commerce &amp; direct-to-consumer</td>\n",
       "      <td>2021</td>\n",
       "      <td>47</td>\n",
       "      <td>2.47</td>\n",
       "    </tr>\n",
       "    <tr>\n",
       "      <th>1</th>\n",
       "      <td>E-commerce &amp; direct-to-consumer</td>\n",
       "      <td>2020</td>\n",
       "      <td>16</td>\n",
       "      <td>4.00</td>\n",
       "    </tr>\n",
       "    <tr>\n",
       "      <th>2</th>\n",
       "      <td>E-commerce &amp; direct-to-consumer</td>\n",
       "      <td>2019</td>\n",
       "      <td>12</td>\n",
       "      <td>2.58</td>\n",
       "    </tr>\n",
       "    <tr>\n",
       "      <th>3</th>\n",
       "      <td>Fintech</td>\n",
       "      <td>2021</td>\n",
       "      <td>138</td>\n",
       "      <td>2.75</td>\n",
       "    </tr>\n",
       "    <tr>\n",
       "      <th>4</th>\n",
       "      <td>Fintech</td>\n",
       "      <td>2020</td>\n",
       "      <td>15</td>\n",
       "      <td>4.33</td>\n",
       "    </tr>\n",
       "    <tr>\n",
       "      <th>5</th>\n",
       "      <td>Fintech</td>\n",
       "      <td>2019</td>\n",
       "      <td>20</td>\n",
       "      <td>6.80</td>\n",
       "    </tr>\n",
       "    <tr>\n",
       "      <th>6</th>\n",
       "      <td>Internet software &amp; services</td>\n",
       "      <td>2021</td>\n",
       "      <td>119</td>\n",
       "      <td>2.15</td>\n",
       "    </tr>\n",
       "    <tr>\n",
       "      <th>7</th>\n",
       "      <td>Internet software &amp; services</td>\n",
       "      <td>2020</td>\n",
       "      <td>20</td>\n",
       "      <td>4.35</td>\n",
       "    </tr>\n",
       "    <tr>\n",
       "      <th>8</th>\n",
       "      <td>Internet software &amp; services</td>\n",
       "      <td>2019</td>\n",
       "      <td>13</td>\n",
       "      <td>4.23</td>\n",
       "    </tr>\n",
       "  </tbody>\n",
       "</table>\n",
       "</div>"
      ],
      "text/plain": [
       "                          industry  ...  average_valuation_billions\n",
       "0  E-commerce & direct-to-consumer  ...                        2.47\n",
       "1  E-commerce & direct-to-consumer  ...                        4.00\n",
       "2  E-commerce & direct-to-consumer  ...                        2.58\n",
       "3                          Fintech  ...                        2.75\n",
       "4                          Fintech  ...                        4.33\n",
       "5                          Fintech  ...                        6.80\n",
       "6     Internet software & services  ...                        2.15\n",
       "7     Internet software & services  ...                        4.35\n",
       "8     Internet software & services  ...                        4.23\n",
       "\n",
       "[9 rows x 4 columns]"
      ]
     },
     "execution_count": 2,
     "metadata": {
      "application/com.datacamp.data-table.v2+json": {
       "status": "success"
      }
     },
     "output_type": "execute_result"
    }
   ],
   "source": [
    "WITH top_industries AS (\n",
    "\tSELECT \n",
    "    \ti.industry, \n",
    "        COUNT(i.*)\n",
    "    FROM industries AS i\n",
    "    JOIN dates AS d\n",
    "        ON i.company_id = d.company_id\n",
    "    WHERE DATE_PART('year', d.date_joined) IN ('2019', '2020', '2021')\n",
    "    GROUP BY industry\n",
    "    ORDER BY count DESC\n",
    "    LIMIT 3\n",
    "),\n",
    "\n",
    "yearly_ranks AS \n",
    "(\n",
    "    SELECT \n",
    "    \tCOUNT(i.*) AS num_unicorns,\n",
    "        i.industry,\n",
    "        DATE_PART('year', d.date_joined) AS year,\n",
    "        AVG(f.valuation) AS average_valuation\n",
    "    FROM industries AS i\n",
    "    JOIN dates AS d\n",
    "        ON i.company_id = d.company_id\n",
    "    JOIN funding AS f\n",
    "        ON d.company_id = f.company_id\n",
    "    GROUP BY industry, year\n",
    ")\n",
    "\n",
    "SELECT \n",
    "\tindustry,\n",
    "    year,\n",
    "    num_unicorns,\n",
    "    ROUND(AVG(average_valuation / 1000000000), 2) AS average_valuation_billions\n",
    "FROM yearly_ranks\n",
    "WHERE year in ('2019', '2020', '2021')\n",
    "\tAND industry in (SELECT industry FROM top_industries)\n",
    "GROUP BY industry, num_unicorns, year, average_valuation\n",
    "ORDER BY industry, year DESC"
   ]
  }
 ],
 "metadata": {
  "colab": {
   "name": "Welcome to DataCamp Workspaces.ipynb",
   "provenance": []
  },
  "kernelspec": {
   "display_name": "Python 3 (ipykernel)",
   "language": "python",
   "name": "python3"
  },
  "language_info": {
   "codemirror_mode": {
    "name": "ipython",
    "version": 3
   },
   "file_extension": ".py",
   "mimetype": "text/x-python",
   "name": "python",
   "nbconvert_exporter": "python",
   "pygments_lexer": "ipython3",
   "version": "3.8.10"
  }
 },
 "nbformat": 4,
 "nbformat_minor": 5
}
